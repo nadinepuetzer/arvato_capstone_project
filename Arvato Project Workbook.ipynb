{
 "cells": [
  {
   "cell_type": "markdown",
   "metadata": {},
   "source": [
    "# Capstone Project: Create a Customer Segmentation Report for Arvato Financial Services\n",
    "\n",
    "In this project, you will analyze demographics data for customers of a mail-order sales company in Germany, comparing it against demographics information for the general population. You'll use unsupervised learning techniques to perform customer segmentation, identifying the parts of the population that best describe the core customer base of the company. Then, you'll apply what you've learned on a third dataset with demographics information for targets of a marketing campaign for the company, and use a model to predict which individuals are most likely to convert into becoming customers for the company. The data that you will use has been provided by our partners at Bertelsmann Arvato Analytics, and represents a real-life data science task.\n",
    "\n",
    "The versions of those two datasets used in this project will include many more features and has not been pre-cleaned. You are also free to choose whatever approach you'd like to analyzing the data rather than follow pre-determined steps. In your work on this project, make sure that you carefully document your steps and decisions, since your main deliverable for this project will be a blog post reporting your findings."
   ]
  },
  {
   "cell_type": "code",
   "execution_count": 1,
   "metadata": {},
   "outputs": [],
   "source": [
    "# import libraries here; add more as necessary\n",
    "import numpy as np\n",
    "import pandas as pd\n",
    "import matplotlib.pyplot as plt\n",
    "import seaborn as sns\n",
    "\n",
    "# magic word for producing visualizations in notebook\n",
    "%matplotlib inline"
   ]
  },
  {
   "cell_type": "markdown",
   "metadata": {},
   "source": [
    "## Part 0: Get to Know the Data\n",
    "\n",
    "There are four data files associated with this project:\n",
    "\n",
    "- `Udacity_AZDIAS_052018.csv`: Demographics data for the general population of Germany; 891 211 persons (rows) x 366 features (columns).\n",
    "- `Udacity_CUSTOMERS_052018.csv`: Demographics data for customers of a mail-order company; 191 652 persons (rows) x 369 features (columns).\n",
    "- `Udacity_MAILOUT_052018_TRAIN.csv`: Demographics data for individuals who were targets of a marketing campaign; 42 982 persons (rows) x 367 (columns).\n",
    "- `Udacity_MAILOUT_052018_TEST.csv`: Demographics data for individuals who were targets of a marketing campaign; 42 833 persons (rows) x 366 (columns).\n",
    "\n",
    "Each row of the demographics files represents a single person, but also includes information outside of individuals, including information about their household, building, and neighborhood. Use the information from the first two files to figure out how customers (\"CUSTOMERS\") are similar to or differ from the general population at large (\"AZDIAS\"), then use your analysis to make predictions on the other two files (\"MAILOUT\"), predicting which recipients are most likely to become a customer for the mail-order company.\n",
    "\n",
    "The \"CUSTOMERS\" file contains three extra columns ('CUSTOMER_GROUP', 'ONLINE_PURCHASE', and 'PRODUCT_GROUP'), which provide broad information about the customers depicted in the file. The original \"MAILOUT\" file included one additional column, \"RESPONSE\", which indicated whether or not each recipient became a customer of the company. For the \"TRAIN\" subset, this column has been retained, but in the \"TEST\" subset it has been removed; it is against that withheld column that your final predictions will be assessed in the Kaggle competition.\n",
    "\n",
    "Otherwise, all of the remaining columns are the same between the three data files. For more information about the columns depicted in the files, you can refer to two Excel spreadsheets provided in the workspace. [One of them](./DIAS Information Levels - Attributes 2017.xlsx) is a top-level list of attributes and descriptions, organized by informational category. [The other](./DIAS Attributes - Values 2017.xlsx) is a detailed mapping of data values for each feature in alphabetical order.\n",
    "\n",
    "In the below cell, we've provided some initial code to load in the first two datasets. Note for all of the `.csv` data files in this project that they're semicolon (`;`) delimited, so an additional argument in the [`read_csv()`](https://pandas.pydata.org/pandas-docs/stable/generated/pandas.read_csv.html) call has been included to read in the data properly. Also, considering the size of the datasets, it may take some time for them to load completely.\n",
    "\n",
    "You'll notice when the data is loaded in that a warning message will immediately pop up. Before you really start digging into the modeling and analysis, you're going to need to perform some cleaning. Take some time to browse the structure of the data and look over the informational spreadsheets to understand the data values. Make some decisions on which features to keep, which features to drop, and if any revisions need to be made on data formats. It'll be a good idea to create a function with pre-processing steps, since you'll need to clean all of the datasets before you work with them."
   ]
  },
  {
   "cell_type": "markdown",
   "metadata": {},
   "source": [
    "### Load the data and basic evaluation\n",
    "- read in csv files `Udacity_AZDIAS_052018.csv` and `Udacity_CUSTOMERS_052018.csv`\n",
    "- basic data evaluation: shape, head, info, describe, isnull"
   ]
  },
  {
   "cell_type": "code",
   "execution_count": 2,
   "metadata": {},
   "outputs": [
    {
     "name": "stderr",
     "output_type": "stream",
     "text": [
      "/opt/conda/lib/python3.6/site-packages/IPython/core/interactiveshell.py:2785: DtypeWarning: Columns (18,19) have mixed types. Specify dtype option on import or set low_memory=False.\n",
      "  interactivity=interactivity, compiler=compiler, result=result)\n"
     ]
    }
   ],
   "source": [
    "# load in the data\n",
    "azdias = pd.read_csv('../../data/Term2/capstone/arvato_data/Udacity_AZDIAS_052018.csv', sep=';')\n",
    "customers = pd.read_csv('../../data/Term2/capstone/arvato_data/Udacity_CUSTOMERS_052018.csv', sep=';')"
   ]
  },
  {
   "cell_type": "code",
   "execution_count": 3,
   "metadata": {},
   "outputs": [
    {
     "name": "stdout",
     "output_type": "stream",
     "text": [
      "(891221, 366)\n",
      "----------------------------------------------------------------------------------------------------------------------\n",
      "      LNR  AGER_TYP  AKT_DAT_KL  ALTER_HH  ALTER_KIND1  ALTER_KIND2  \\\n",
      "0  910215        -1         NaN       NaN          NaN          NaN   \n",
      "1  910220        -1         9.0       0.0          NaN          NaN   \n",
      "2  910225        -1         9.0      17.0          NaN          NaN   \n",
      "3  910226         2         1.0      13.0          NaN          NaN   \n",
      "4  910241        -1         1.0      20.0          NaN          NaN   \n",
      "\n",
      "   ALTER_KIND3  ALTER_KIND4  ALTERSKATEGORIE_FEIN  ANZ_HAUSHALTE_AKTIV  \\\n",
      "0          NaN          NaN                   NaN                  NaN   \n",
      "1          NaN          NaN                  21.0                 11.0   \n",
      "2          NaN          NaN                  17.0                 10.0   \n",
      "3          NaN          NaN                  13.0                  1.0   \n",
      "4          NaN          NaN                  14.0                  3.0   \n",
      "\n",
      "          ...           VHN  VK_DHT4A  VK_DISTANZ  VK_ZG11  W_KEIT_KIND_HH  \\\n",
      "0         ...           NaN       NaN         NaN      NaN             NaN   \n",
      "1         ...           4.0       8.0        11.0     10.0             3.0   \n",
      "2         ...           2.0       9.0         9.0      6.0             3.0   \n",
      "3         ...           0.0       7.0        10.0     11.0             NaN   \n",
      "4         ...           2.0       3.0         5.0      4.0             2.0   \n",
      "\n",
      "   WOHNDAUER_2008  WOHNLAGE ZABEOTYP ANREDE_KZ ALTERSKATEGORIE_GROB  \n",
      "0             NaN       NaN        3         1                    2  \n",
      "1             9.0       4.0        5         2                    1  \n",
      "2             9.0       2.0        5         2                    3  \n",
      "3             9.0       7.0        3         2                    4  \n",
      "4             9.0       3.0        4         1                    3  \n",
      "\n",
      "[5 rows x 366 columns]\n",
      "----------------------------------------------------------------------------------------------------------------------\n",
      "<class 'pandas.core.frame.DataFrame'>\n",
      "RangeIndex: 891221 entries, 0 to 891220\n",
      "Columns: 366 entries, LNR to ALTERSKATEGORIE_GROB\n",
      "dtypes: float64(267), int64(93), object(6)\n",
      "memory usage: 2.4+ GB\n",
      "None\n",
      "----------------------------------------------------------------------------------------------------------------------\n",
      "                LNR       AGER_TYP     AKT_DAT_KL       ALTER_HH  \\\n",
      "count  8.912210e+05  891221.000000  817722.000000  817722.000000   \n",
      "mean   6.372630e+05      -0.358435       4.421928      10.864126   \n",
      "std    2.572735e+05       1.198724       3.638805       7.639683   \n",
      "min    1.916530e+05      -1.000000       1.000000       0.000000   \n",
      "25%    4.144580e+05      -1.000000       1.000000       0.000000   \n",
      "50%    6.372630e+05      -1.000000       3.000000      13.000000   \n",
      "75%    8.600680e+05      -1.000000       9.000000      17.000000   \n",
      "max    1.082873e+06       3.000000       9.000000      21.000000   \n",
      "\n",
      "        ALTER_KIND1   ALTER_KIND2  ALTER_KIND3  ALTER_KIND4  \\\n",
      "count  81058.000000  29499.000000  6170.000000  1205.000000   \n",
      "mean      11.745392     13.402658    14.476013    15.089627   \n",
      "std        4.097660      3.243300     2.712427     2.452932   \n",
      "min        2.000000      2.000000     4.000000     7.000000   \n",
      "25%        8.000000     11.000000    13.000000    14.000000   \n",
      "50%       12.000000     14.000000    15.000000    15.000000   \n",
      "75%       15.000000     16.000000    17.000000    17.000000   \n",
      "max       18.000000     18.000000    18.000000    18.000000   \n",
      "\n",
      "       ALTERSKATEGORIE_FEIN  ANZ_HAUSHALTE_AKTIV          ...           \\\n",
      "count         628274.000000        798073.000000          ...            \n",
      "mean              13.700717             8.287263          ...            \n",
      "std                5.079849            15.628087          ...            \n",
      "min                0.000000             0.000000          ...            \n",
      "25%               11.000000             1.000000          ...            \n",
      "50%               14.000000             4.000000          ...            \n",
      "75%               17.000000             9.000000          ...            \n",
      "max               25.000000           595.000000          ...            \n",
      "\n",
      "                 VHN       VK_DHT4A     VK_DISTANZ        VK_ZG11  \\\n",
      "count  770025.000000  815304.000000  815304.000000  815304.000000   \n",
      "mean        2.417322       6.001214       7.532130       5.945972   \n",
      "std         1.166572       2.856091       3.247789       2.771464   \n",
      "min         0.000000       1.000000       1.000000       1.000000   \n",
      "25%         2.000000       3.000000       5.000000       4.000000   \n",
      "50%         2.000000       6.000000       8.000000       6.000000   \n",
      "75%         3.000000       9.000000      10.000000       8.000000   \n",
      "max         4.000000      11.000000      13.000000      11.000000   \n",
      "\n",
      "       W_KEIT_KIND_HH  WOHNDAUER_2008       WOHNLAGE       ZABEOTYP  \\\n",
      "count   783619.000000   817722.000000  798073.000000  891221.000000   \n",
      "mean         3.933406        7.908791       4.052836       3.362438   \n",
      "std          1.964701        1.923137       1.949539       1.352704   \n",
      "min          0.000000        1.000000       0.000000       1.000000   \n",
      "25%          2.000000        8.000000       3.000000       3.000000   \n",
      "50%          4.000000        9.000000       3.000000       3.000000   \n",
      "75%          6.000000        9.000000       5.000000       4.000000   \n",
      "max          6.000000        9.000000       8.000000       6.000000   \n",
      "\n",
      "           ANREDE_KZ  ALTERSKATEGORIE_GROB  \n",
      "count  891221.000000         891221.000000  \n",
      "mean        1.522098              2.777398  \n",
      "std         0.499512              1.068775  \n",
      "min         1.000000              1.000000  \n",
      "25%         1.000000              2.000000  \n",
      "50%         2.000000              3.000000  \n",
      "75%         2.000000              4.000000  \n",
      "max         2.000000              9.000000  \n",
      "\n",
      "[8 rows x 360 columns]\n",
      "----------------------------------------------------------------------------------------------------------------------\n",
      "LNR                                0\n",
      "AGER_TYP                           0\n",
      "AKT_DAT_KL                     73499\n",
      "ALTER_HH                       73499\n",
      "ALTER_KIND1                   810163\n",
      "ALTER_KIND2                   861722\n",
      "ALTER_KIND3                   885051\n",
      "ALTER_KIND4                   890016\n",
      "ALTERSKATEGORIE_FEIN          262947\n",
      "ANZ_HAUSHALTE_AKTIV            93148\n",
      "ANZ_HH_TITEL                   97008\n",
      "ANZ_KINDER                     73499\n",
      "ANZ_PERSONEN                   73499\n",
      "ANZ_STATISTISCHE_HAUSHALTE     93148\n",
      "ANZ_TITEL                      73499\n",
      "ARBEIT                         97216\n",
      "BALLRAUM                       93740\n",
      "CAMEO_DEU_2015                 98979\n",
      "CAMEO_DEUG_2015                98979\n",
      "CAMEO_INTL_2015                98979\n",
      "CJT_GESAMTTYP                   4854\n",
      "CJT_KATALOGNUTZER               4854\n",
      "CJT_TYP_1                       4854\n",
      "CJT_TYP_2                       4854\n",
      "CJT_TYP_3                       4854\n",
      "CJT_TYP_4                       4854\n",
      "CJT_TYP_5                       4854\n",
      "CJT_TYP_6                       4854\n",
      "D19_BANKEN_ANZ_12                  0\n",
      "D19_BANKEN_ANZ_24                  0\n",
      "                               ...  \n",
      "SEMIO_KRIT                         0\n",
      "SEMIO_KULT                         0\n",
      "SEMIO_LUST                         0\n",
      "SEMIO_MAT                          0\n",
      "SEMIO_PFLICHT                      0\n",
      "SEMIO_RAT                          0\n",
      "SEMIO_REL                          0\n",
      "SEMIO_SOZ                          0\n",
      "SEMIO_TRADV                        0\n",
      "SEMIO_VERT                         0\n",
      "SHOPPER_TYP                        0\n",
      "SOHO_KZ                        73499\n",
      "STRUKTURTYP                    97274\n",
      "TITEL_KZ                       73499\n",
      "UMFELD_ALT                     97786\n",
      "UMFELD_JUNG                    97786\n",
      "UNGLEICHENN_FLAG               73499\n",
      "VERDICHTUNGSRAUM               97274\n",
      "VERS_TYP                           0\n",
      "VHA                            73499\n",
      "VHN                           121196\n",
      "VK_DHT4A                       75917\n",
      "VK_DISTANZ                     75917\n",
      "VK_ZG11                        75917\n",
      "W_KEIT_KIND_HH                107602\n",
      "WOHNDAUER_2008                 73499\n",
      "WOHNLAGE                       93148\n",
      "ZABEOTYP                           0\n",
      "ANREDE_KZ                          0\n",
      "ALTERSKATEGORIE_GROB               0\n",
      "Length: 366, dtype: int64\n"
     ]
    }
   ],
   "source": [
    "# basic data evaluation AZDIAS\n",
    "print(azdias.shape)\n",
    "print('----------------------------------------------------------------------------------------------------------------------')\n",
    "print(azdias.head())\n",
    "print('----------------------------------------------------------------------------------------------------------------------')\n",
    "print(azdias.info())\n",
    "print('----------------------------------------------------------------------------------------------------------------------')\n",
    "print(azdias.describe())\n",
    "print('----------------------------------------------------------------------------------------------------------------------')\n",
    "print(azdias.isnull().sum())"
   ]
  },
  {
   "cell_type": "code",
   "execution_count": 4,
   "metadata": {},
   "outputs": [
    {
     "name": "stdout",
     "output_type": "stream",
     "text": [
      "(191652, 369)\n",
      "----------------------------------------------------------------------------------------------------------------------\n",
      "      LNR  AGER_TYP  AKT_DAT_KL  ALTER_HH  ALTER_KIND1  ALTER_KIND2  \\\n",
      "0    9626         2         1.0      10.0          NaN          NaN   \n",
      "1    9628        -1         9.0      11.0          NaN          NaN   \n",
      "2  143872        -1         1.0       6.0          NaN          NaN   \n",
      "3  143873         1         1.0       8.0          NaN          NaN   \n",
      "4  143874        -1         1.0      20.0          NaN          NaN   \n",
      "\n",
      "   ALTER_KIND3  ALTER_KIND4  ALTERSKATEGORIE_FEIN  ANZ_HAUSHALTE_AKTIV  \\\n",
      "0          NaN          NaN                  10.0                  1.0   \n",
      "1          NaN          NaN                   NaN                  NaN   \n",
      "2          NaN          NaN                   0.0                  1.0   \n",
      "3          NaN          NaN                   8.0                  0.0   \n",
      "4          NaN          NaN                  14.0                  7.0   \n",
      "\n",
      "          ...           VK_ZG11  W_KEIT_KIND_HH  WOHNDAUER_2008  WOHNLAGE  \\\n",
      "0         ...               2.0             6.0             9.0       7.0   \n",
      "1         ...               3.0             0.0             9.0       NaN   \n",
      "2         ...              11.0             6.0             9.0       2.0   \n",
      "3         ...               2.0             NaN             9.0       7.0   \n",
      "4         ...               4.0             2.0             9.0       3.0   \n",
      "\n",
      "   ZABEOTYP      PRODUCT_GROUP  CUSTOMER_GROUP ONLINE_PURCHASE ANREDE_KZ  \\\n",
      "0         3  COSMETIC_AND_FOOD     MULTI_BUYER               0         1   \n",
      "1         3               FOOD    SINGLE_BUYER               0         1   \n",
      "2         3  COSMETIC_AND_FOOD     MULTI_BUYER               0         2   \n",
      "3         1           COSMETIC     MULTI_BUYER               0         1   \n",
      "4         1               FOOD     MULTI_BUYER               0         1   \n",
      "\n",
      "  ALTERSKATEGORIE_GROB  \n",
      "0                    4  \n",
      "1                    4  \n",
      "2                    4  \n",
      "3                    4  \n",
      "4                    3  \n",
      "\n",
      "[5 rows x 369 columns]\n",
      "----------------------------------------------------------------------------------------------------------------------\n",
      "<class 'pandas.core.frame.DataFrame'>\n",
      "RangeIndex: 191652 entries, 0 to 191651\n",
      "Columns: 369 entries, LNR to ALTERSKATEGORIE_GROB\n",
      "dtypes: float64(267), int64(94), object(8)\n",
      "memory usage: 539.5+ MB\n",
      "None\n",
      "----------------------------------------------------------------------------------------------------------------------\n",
      "                 LNR       AGER_TYP     AKT_DAT_KL       ALTER_HH  \\\n",
      "count  191652.000000  191652.000000  145056.000000  145056.000000   \n",
      "mean    95826.500000       0.344359       1.747525      11.352009   \n",
      "std     55325.311233       1.391672       1.966334       6.275026   \n",
      "min         1.000000      -1.000000       1.000000       0.000000   \n",
      "25%     47913.750000      -1.000000       1.000000       8.000000   \n",
      "50%     95826.500000       0.000000       1.000000      11.000000   \n",
      "75%    143739.250000       2.000000       1.000000      16.000000   \n",
      "max    191652.000000       3.000000       9.000000      21.000000   \n",
      "\n",
      "        ALTER_KIND1  ALTER_KIND2  ALTER_KIND3  ALTER_KIND4  \\\n",
      "count  11766.000000  5100.000000  1275.000000   236.000000   \n",
      "mean      12.337243    13.672353    14.647059    15.377119   \n",
      "std        4.006050     3.243335     2.753787     2.307653   \n",
      "min        2.000000     2.000000     5.000000     8.000000   \n",
      "25%        9.000000    11.000000    13.000000    14.000000   \n",
      "50%       13.000000    14.000000    15.000000    16.000000   \n",
      "75%       16.000000    16.000000    17.000000    17.000000   \n",
      "max       18.000000    18.000000    18.000000    18.000000   \n",
      "\n",
      "       ALTERSKATEGORIE_FEIN  ANZ_HAUSHALTE_AKTIV          ...           \\\n",
      "count         139810.000000        141725.000000          ...            \n",
      "mean              10.331579             4.965863          ...            \n",
      "std                4.134828            14.309694          ...            \n",
      "min                0.000000             0.000000          ...            \n",
      "25%                9.000000             1.000000          ...            \n",
      "50%               10.000000             1.000000          ...            \n",
      "75%               13.000000             4.000000          ...            \n",
      "max               25.000000           523.000000          ...            \n",
      "\n",
      "            VK_DHT4A     VK_DISTANZ        VK_ZG11  W_KEIT_KIND_HH  \\\n",
      "count  143781.000000  143781.000000  143781.000000   137910.000000   \n",
      "mean        4.374417       4.564769       3.168868        4.152716   \n",
      "std         2.924355       2.887035       2.233516        1.974375   \n",
      "min         1.000000       1.000000       1.000000        0.000000   \n",
      "25%         2.000000       2.000000       1.000000        2.000000   \n",
      "50%         4.000000       4.000000       3.000000        5.000000   \n",
      "75%         7.000000       7.000000       4.000000        6.000000   \n",
      "max        11.000000      13.000000      11.000000        6.000000   \n",
      "\n",
      "       WOHNDAUER_2008       WOHNLAGE       ZABEOTYP  ONLINE_PURCHASE  \\\n",
      "count   145056.000000  141725.000000  191652.000000    191652.000000   \n",
      "mean         8.646371       3.723133       2.576806         0.090247   \n",
      "std          1.154001       2.095540       1.168486         0.286536   \n",
      "min          1.000000       0.000000       1.000000         0.000000   \n",
      "25%          9.000000       2.000000       1.000000         0.000000   \n",
      "50%          9.000000       3.000000       3.000000         0.000000   \n",
      "75%          9.000000       5.000000       3.000000         0.000000   \n",
      "max          9.000000       8.000000       6.000000         1.000000   \n",
      "\n",
      "           ANREDE_KZ  ALTERSKATEGORIE_GROB  \n",
      "count  191652.000000         191652.000000  \n",
      "mean        1.376432              3.060907  \n",
      "std         0.484492              1.086254  \n",
      "min         1.000000              1.000000  \n",
      "25%         1.000000              3.000000  \n",
      "50%         1.000000              3.000000  \n",
      "75%         2.000000              4.000000  \n",
      "max         2.000000              9.000000  \n",
      "\n",
      "[8 rows x 361 columns]\n",
      "----------------------------------------------------------------------------------------------------------------------\n",
      "LNR                                0\n",
      "AGER_TYP                           0\n",
      "AKT_DAT_KL                     46596\n",
      "ALTER_HH                       46596\n",
      "ALTER_KIND1                   179886\n",
      "ALTER_KIND2                   186552\n",
      "ALTER_KIND3                   190377\n",
      "ALTER_KIND4                   191416\n",
      "ALTERSKATEGORIE_FEIN           51842\n",
      "ANZ_HAUSHALTE_AKTIV            49927\n",
      "ANZ_HH_TITEL                   52110\n",
      "ANZ_KINDER                     46596\n",
      "ANZ_PERSONEN                   46596\n",
      "ANZ_STATISTISCHE_HAUSHALTE     49927\n",
      "ANZ_TITEL                      46596\n",
      "ARBEIT                         50476\n",
      "BALLRAUM                       49959\n",
      "CAMEO_DEU_2015                 50428\n",
      "CAMEO_DEUG_2015                50428\n",
      "CAMEO_INTL_2015                50428\n",
      "CJT_GESAMTTYP                   3213\n",
      "CJT_KATALOGNUTZER               3213\n",
      "CJT_TYP_1                       3213\n",
      "CJT_TYP_2                       3213\n",
      "CJT_TYP_3                       3213\n",
      "CJT_TYP_4                       3213\n",
      "CJT_TYP_5                       3213\n",
      "CJT_TYP_6                       3213\n",
      "D19_BANKEN_ANZ_12                  0\n",
      "D19_BANKEN_ANZ_24                  0\n",
      "                               ...  \n",
      "SEMIO_MAT                          0\n",
      "SEMIO_PFLICHT                      0\n",
      "SEMIO_RAT                          0\n",
      "SEMIO_REL                          0\n",
      "SEMIO_SOZ                          0\n",
      "SEMIO_TRADV                        0\n",
      "SEMIO_VERT                         0\n",
      "SHOPPER_TYP                        0\n",
      "SOHO_KZ                        46596\n",
      "STRUKTURTYP                    50476\n",
      "TITEL_KZ                       46596\n",
      "UMFELD_ALT                     50448\n",
      "UMFELD_JUNG                    50448\n",
      "UNGLEICHENN_FLAG               46596\n",
      "VERDICHTUNGSRAUM               50476\n",
      "VERS_TYP                           0\n",
      "VHA                            46596\n",
      "VHN                            54260\n",
      "VK_DHT4A                       47871\n",
      "VK_DISTANZ                     47871\n",
      "VK_ZG11                        47871\n",
      "W_KEIT_KIND_HH                 53742\n",
      "WOHNDAUER_2008                 46596\n",
      "WOHNLAGE                       49927\n",
      "ZABEOTYP                           0\n",
      "PRODUCT_GROUP                      0\n",
      "CUSTOMER_GROUP                     0\n",
      "ONLINE_PURCHASE                    0\n",
      "ANREDE_KZ                          0\n",
      "ALTERSKATEGORIE_GROB               0\n",
      "Length: 369, dtype: int64\n"
     ]
    }
   ],
   "source": [
    "# basic data evaluation CUSTOMERS\n",
    "print(customers.shape)\n",
    "print('----------------------------------------------------------------------------------------------------------------------')\n",
    "print(customers.head())\n",
    "print('----------------------------------------------------------------------------------------------------------------------')\n",
    "print(customers.info())\n",
    "print('----------------------------------------------------------------------------------------------------------------------')\n",
    "print(customers.describe())\n",
    "print('----------------------------------------------------------------------------------------------------------------------')\n",
    "print(customers.isnull().sum())"
   ]
  },
  {
   "cell_type": "markdown",
   "metadata": {},
   "source": [
    "### Data Preprocessing\n",
    "\n",
    "- Explore features (Differences in columns)\n",
    "\n",
    "- Check data types\n",
    "\n",
    "- Explore features using `DIAS Attributes - Values 2017.xlsx`\n",
    "\n",
    "- Missing Values \n",
    "    - Convert Unknown to NaN\n",
    "    - Columns with NaN (distribution of % missing --> decide what to drop)\n",
    "    - Rows with NaN (distribution of % missing --> decide what to drop)\n",
    "\n",
    "- Datatypes: Classify attribute types (https://www.mygreatlearning.com/blog/types-of-data/)\n",
    "    - Quantitative Attributes (Numerical)\n",
    "        - Discrete / Continous data\n",
    "    - Qualitative Attributes (Categorical)\n",
    "        - Nominal / Ordinal\n",
    "    - Impute NaN for each data type?\n",
    "\n",
    "- Encoding / Standardization (OneHotEncoder / StandardScaler)"
   ]
  },
  {
   "cell_type": "markdown",
   "metadata": {},
   "source": [
    "#### Explore Features "
   ]
  },
  {
   "cell_type": "code",
   "execution_count": 5,
   "metadata": {},
   "outputs": [
    {
     "data": {
      "text/plain": [
       "{'CUSTOMER_GROUP', 'ONLINE_PURCHASE', 'PRODUCT_GROUP'}"
      ]
     },
     "execution_count": 5,
     "metadata": {},
     "output_type": "execute_result"
    }
   ],
   "source": [
    "# differences in columns\n",
    "azdias_cols = set(azdias.columns)\n",
    "customers_cols = set(customers.columns)\n",
    "customers_cols - azdias_cols\n"
   ]
  },
  {
   "cell_type": "markdown",
   "metadata": {},
   "source": [
    "There are 3 columns in the customers data set not included in azdias data set: 'CUSTOMER_GROUP', 'ONLINE_PURCHASE', 'PRODUCT_GROUP'."
   ]
  },
  {
   "cell_type": "markdown",
   "metadata": {},
   "source": [
    "#### Check Data Types"
   ]
  },
  {
   "cell_type": "code",
   "execution_count": 6,
   "metadata": {},
   "outputs": [
    {
     "data": {
      "text/plain": [
       "float64    267\n",
       "int64       93\n",
       "object       6\n",
       "dtype: int64"
      ]
     },
     "execution_count": 6,
     "metadata": {},
     "output_type": "execute_result"
    }
   ],
   "source": [
    "# check data types azdias\n",
    "azdias.get_dtype_counts()"
   ]
  },
  {
   "cell_type": "code",
   "execution_count": 7,
   "metadata": {},
   "outputs": [
    {
     "data": {
      "text/plain": [
       "float64    267\n",
       "int64       94\n",
       "object       8\n",
       "dtype: int64"
      ]
     },
     "execution_count": 7,
     "metadata": {},
     "output_type": "execute_result"
    }
   ],
   "source": [
    "# check data types customers\n",
    "customers.get_dtype_counts()"
   ]
  },
  {
   "cell_type": "code",
   "execution_count": 8,
   "metadata": {},
   "outputs": [
    {
     "name": "stdout",
     "output_type": "stream",
     "text": [
      "Categorical features in AZDIAS:\n",
      "   CAMEO_DEU_2015 CAMEO_DEUG_2015 CAMEO_INTL_2015 D19_LETZTER_KAUF_BRANCHE  \\\n",
      "0            NaN             NaN             NaN                      NaN   \n",
      "1             8A               8              51                      NaN   \n",
      "2             4C               4              24            D19_UNBEKANNT   \n",
      "3             2A               2              12            D19_UNBEKANNT   \n",
      "4             6B               6              43               D19_SCHUHE   \n",
      "\n",
      "         EINGEFUEGT_AM OST_WEST_KZ  \n",
      "0                  NaN         NaN  \n",
      "1  1992-02-10 00:00:00           W  \n",
      "2  1992-02-12 00:00:00           W  \n",
      "3  1997-04-21 00:00:00           W  \n",
      "4  1992-02-12 00:00:00           W  \n",
      "----------------------------------------------------------------------------------------------------------------------\n",
      "Categorical features in CUSTOMERS:\n",
      "   CAMEO_DEU_2015 CAMEO_DEUG_2015 CAMEO_INTL_2015 D19_LETZTER_KAUF_BRANCHE  \\\n",
      "0             1A               1              13            D19_UNBEKANNT   \n",
      "1            NaN             NaN             NaN         D19_BANKEN_GROSS   \n",
      "2             5D               5              34            D19_UNBEKANNT   \n",
      "3             4C               4              24   D19_NAHRUNGSERGAENZUNG   \n",
      "4             7B               7              41               D19_SCHUHE   \n",
      "\n",
      "         EINGEFUEGT_AM OST_WEST_KZ      PRODUCT_GROUP CUSTOMER_GROUP  \n",
      "0  1992-02-12 00:00:00           W  COSMETIC_AND_FOOD    MULTI_BUYER  \n",
      "1                  NaN         NaN               FOOD   SINGLE_BUYER  \n",
      "2  1992-02-10 00:00:00           W  COSMETIC_AND_FOOD    MULTI_BUYER  \n",
      "3  1992-02-10 00:00:00           W           COSMETIC    MULTI_BUYER  \n",
      "4  1992-02-12 00:00:00           W               FOOD    MULTI_BUYER  \n"
     ]
    }
   ],
   "source": [
    "print('Categorical features in AZDIAS:\\n', azdias.select_dtypes(['object']).head(5))\n",
    "print('----------------------------------------------------------------------------------------------------------------------')\n",
    "print('Categorical features in CUSTOMERS:\\n', customers.select_dtypes(['object']).head(5))"
   ]
  },
  {
   "cell_type": "markdown",
   "metadata": {},
   "source": [
    "There are 6 categorical features in the azdias data set but 8 categorical featrues in the customers data set. \n",
    "\n",
    "The feature information to these categorical features are the following:\n",
    "- CAMEO_DEU_2015 / CAMEO_DEUG_2015 / CAMEO_INTL_2015: These describe the sociodemographic background of a person or household based on the CAMEO classification system.\n",
    "- D19_LETZTER_KAUF_BRANCHE: Industry in which last purchase was made\n",
    "- EINGEFUEGT_AM: Date where record was added \n",
    "- OST_WEST_KZ: Inidcates whether a house is located in West Germany / Federal Republik of Germany / FRG (W) or East Germany / German Democratic Republik / GDR (O)\n",
    "- PRODUCT_GROUP: Product Group where the transactional activity has taken place\n",
    "- CUSTOMER_GROUP: Classification of the customer as MULTI_BUYER or SINGLE_BUYER "
   ]
  },
  {
   "cell_type": "markdown",
   "metadata": {},
   "source": [
    "#### Explore Features using DIAS Attributes - Values 2017.xlsx"
   ]
  },
  {
   "cell_type": "code",
   "execution_count": 9,
   "metadata": {},
   "outputs": [
    {
     "data": {
      "text/html": [
       "<div>\n",
       "<style scoped>\n",
       "    .dataframe tbody tr th:only-of-type {\n",
       "        vertical-align: middle;\n",
       "    }\n",
       "\n",
       "    .dataframe tbody tr th {\n",
       "        vertical-align: top;\n",
       "    }\n",
       "\n",
       "    .dataframe thead th {\n",
       "        text-align: right;\n",
       "    }\n",
       "</style>\n",
       "<table border=\"1\" class=\"dataframe\">\n",
       "  <thead>\n",
       "    <tr style=\"text-align: right;\">\n",
       "      <th></th>\n",
       "      <th>Attribute</th>\n",
       "      <th>Description</th>\n",
       "      <th>Value</th>\n",
       "      <th>Meaning</th>\n",
       "    </tr>\n",
       "  </thead>\n",
       "  <tbody>\n",
       "    <tr>\n",
       "      <th>0</th>\n",
       "      <td>AGER_TYP</td>\n",
       "      <td>best-ager typology</td>\n",
       "      <td>-1</td>\n",
       "      <td>unknown</td>\n",
       "    </tr>\n",
       "    <tr>\n",
       "      <th>1</th>\n",
       "      <td>nan</td>\n",
       "      <td>nan</td>\n",
       "      <td>0</td>\n",
       "      <td>no classification possible</td>\n",
       "    </tr>\n",
       "    <tr>\n",
       "      <th>2</th>\n",
       "      <td>nan</td>\n",
       "      <td>nan</td>\n",
       "      <td>1</td>\n",
       "      <td>passive elderly</td>\n",
       "    </tr>\n",
       "    <tr>\n",
       "      <th>3</th>\n",
       "      <td>nan</td>\n",
       "      <td>nan</td>\n",
       "      <td>2</td>\n",
       "      <td>cultural elderly</td>\n",
       "    </tr>\n",
       "    <tr>\n",
       "      <th>4</th>\n",
       "      <td>nan</td>\n",
       "      <td>nan</td>\n",
       "      <td>3</td>\n",
       "      <td>experience-driven elderly</td>\n",
       "    </tr>\n",
       "  </tbody>\n",
       "</table>\n",
       "</div>"
      ],
      "text/plain": [
       "  Attribute         Description Value                     Meaning\n",
       "0  AGER_TYP  best-ager typology    -1                     unknown\n",
       "1       nan                 nan     0  no classification possible\n",
       "2       nan                 nan     1             passive elderly\n",
       "3       nan                 nan     2            cultural elderly\n",
       "4       nan                 nan     3   experience-driven elderly"
      ]
     },
     "execution_count": 9,
     "metadata": {},
     "output_type": "execute_result"
    }
   ],
   "source": [
    "# explore features using DIAS Attributes - Values 2017.xlsx\n",
    "attr_values = pd.read_excel('DIAS Attributes - Values 2017.xlsx', usecols='B:E', dtype='str')\n",
    "attr_values.head()"
   ]
  },
  {
   "cell_type": "markdown",
   "metadata": {},
   "source": [
    "There are several values in the features that have the meaning \"unknown\". These should be replaced by NaN in the dataset in order to perform a correct estimation and cleanup of missing values.\n",
    "Among numerical characteristics, there are many whose values have natural, ordered categories. These need to be identified and classified as ordinal or categorical data."
   ]
  },
  {
   "cell_type": "code",
   "execution_count": 10,
   "metadata": {},
   "outputs": [
    {
     "data": {
      "text/html": [
       "<div>\n",
       "<style scoped>\n",
       "    .dataframe tbody tr th:only-of-type {\n",
       "        vertical-align: middle;\n",
       "    }\n",
       "\n",
       "    .dataframe tbody tr th {\n",
       "        vertical-align: top;\n",
       "    }\n",
       "\n",
       "    .dataframe thead th {\n",
       "        text-align: right;\n",
       "    }\n",
       "</style>\n",
       "<table border=\"1\" class=\"dataframe\">\n",
       "  <thead>\n",
       "    <tr style=\"text-align: right;\">\n",
       "      <th></th>\n",
       "      <th>Attribute</th>\n",
       "      <th>Description</th>\n",
       "      <th>Value</th>\n",
       "      <th>Meaning</th>\n",
       "    </tr>\n",
       "  </thead>\n",
       "  <tbody>\n",
       "    <tr>\n",
       "      <th>0</th>\n",
       "      <td>AGER_TYP</td>\n",
       "      <td>best-ager typology</td>\n",
       "      <td>-1</td>\n",
       "      <td>unknown</td>\n",
       "    </tr>\n",
       "    <tr>\n",
       "      <th>5</th>\n",
       "      <td>ALTERSKATEGORIE_GROB</td>\n",
       "      <td>age classification through prename analysis</td>\n",
       "      <td>-1, 0</td>\n",
       "      <td>unknown</td>\n",
       "    </tr>\n",
       "    <tr>\n",
       "      <th>11</th>\n",
       "      <td>ALTER_HH</td>\n",
       "      <td>main age within the household</td>\n",
       "      <td>0</td>\n",
       "      <td>unknown / no main age detectable</td>\n",
       "    </tr>\n",
       "    <tr>\n",
       "      <th>33</th>\n",
       "      <td>ANREDE_KZ</td>\n",
       "      <td>gender</td>\n",
       "      <td>-1, 0</td>\n",
       "      <td>unknown</td>\n",
       "    </tr>\n",
       "    <tr>\n",
       "      <th>40</th>\n",
       "      <td>BALLRAUM</td>\n",
       "      <td>distance to next urban centre</td>\n",
       "      <td>-1</td>\n",
       "      <td>unknown</td>\n",
       "    </tr>\n",
       "  </tbody>\n",
       "</table>\n",
       "</div>"
      ],
      "text/plain": [
       "               Attribute                                   Description  Value  \\\n",
       "0               AGER_TYP                            best-ager typology     -1   \n",
       "5   ALTERSKATEGORIE_GROB  age classification through prename analysis   -1, 0   \n",
       "11              ALTER_HH                 main age within the household      0   \n",
       "33             ANREDE_KZ                                        gender  -1, 0   \n",
       "40              BALLRAUM                distance to next urban centre      -1   \n",
       "\n",
       "                             Meaning  \n",
       "0                            unknown  \n",
       "5                            unknown  \n",
       "11  unknown / no main age detectable  \n",
       "33                           unknown  \n",
       "40                           unknown  "
      ]
     },
     "execution_count": 10,
     "metadata": {},
     "output_type": "execute_result"
    }
   ],
   "source": [
    "# identify values with meaning unknown\n",
    "unknown_values = attr_values[attr_values[\"Meaning\"].isin([\"unknown\",\"unknown / no main age detectable\"])]\n",
    "unknown_values.head()"
   ]
  },
  {
   "cell_type": "markdown",
   "metadata": {},
   "source": [
    "#### Missing Values\n",
    "- Convert Unknown to NaN\n",
    "- Columns with NaN (distribution of % missing --> decide what to drop)\n",
    "- Rows with NaN (distribution of % missing --> decide what to drop)"
   ]
  },
  {
   "cell_type": "code",
   "execution_count": 11,
   "metadata": {},
   "outputs": [],
   "source": [
    "# Create dict of missing attribute-value combinations\n",
    "unknown_values_dict = {}\n",
    "for _, row in unknown_values.iterrows():\n",
    "    key = row[\"Attribute\"]\n",
    "    unknown_values_dict[key] = row[\"Value\"].split(\", \")\n",
    "    "
   ]
  },
  {
   "cell_type": "code",
   "execution_count": 12,
   "metadata": {},
   "outputs": [],
   "source": [
    "# Manually add missing codes from other/similar attributes \n",
    "unknown_values_dict[\"CAMEO_INTL_2015\"] = ['XX']\n",
    "unknown_values_dict[\"CAMEO_DEUG_2015\"] = ['X','XX']\n",
    "unknown_values_dict[\"CAMEO_DEU_2015\"] =['XX']\n",
    "unknown_values_dict[\"GEBURTSJAHR\"] = ['0']\n"
   ]
  },
  {
   "cell_type": "code",
   "execution_count": 13,
   "metadata": {},
   "outputs": [],
   "source": [
    "def convert_unknown_to_nan(df, keys_dict):\n",
    "    \"\"\"\n",
    "    Replaces given keys from keys_dict to np.nan in df\n",
    "    \n",
    "    Input:\n",
    "        df (DataFrame): Dataset for which keys to need to be converted nan \n",
    "        keys_dict: dictionary of column names with keys that need to be converted to nan\n",
    "\n",
    "    \"\"\"\n",
    "    # Search for unknown keys in each column and replace\n",
    "\n",
    "    for column_name in keys_dict:\n",
    "        if column_name in df.columns:       \n",
    "            keys_values = keys_dict[column_name]\n",
    "            for key in keys_values:\n",
    "                if key == 'X' or key == 'XX':\n",
    "                    key = str(key)\n",
    "                else:\n",
    "                    key = int(key)\n",
    "                \n",
    "                df[column_name].replace(key, np.NaN, inplace=True)"
   ]
  },
  {
   "cell_type": "code",
   "execution_count": 14,
   "metadata": {},
   "outputs": [
    {
     "data": {
      "text/plain": [
       "ALTER_KIND4                    890016\n",
       "ALTER_KIND3                    885051\n",
       "ALTER_KIND2                    861722\n",
       "ALTER_KIND1                    810163\n",
       "EXTSEL992                      654153\n",
       "KK_KUNDENTYP                   584612\n",
       "ALTERSKATEGORIE_FEIN           262947\n",
       "D19_LETZTER_KAUF_BRANCHE       257113\n",
       "D19_LOTTO                      257113\n",
       "D19_VERSI_ONLINE_QUOTE_12      257113\n",
       "D19_BANKEN_ONLINE_QUOTE_12     257113\n",
       "D19_SOZIALES                   257113\n",
       "D19_GESAMT_ONLINE_QUOTE_12     257113\n",
       "D19_KONSUMTYP                  257113\n",
       "D19_TELKO_ONLINE_QUOTE_12      257113\n",
       "D19_VERSAND_ONLINE_QUOTE_12    257113\n",
       "KBA05_MOTOR                    133324\n",
       "KBA05_MOD8                     133324\n",
       "KBA05_MOD4                     133324\n",
       "KBA05_MOD3                     133324\n",
       "KBA05_MOD2                     133324\n",
       "KBA05_SEG1                     133324\n",
       "KBA05_MOD1                     133324\n",
       "KBA05_MAXVORB                  133324\n",
       "KBA05_MAXSEG                   133324\n",
       "KBA05_MAXHERST                 133324\n",
       "KBA05_MAXBJ                    133324\n",
       "KBA05_MAXAH                    133324\n",
       "KBA05_KW3                      133324\n",
       "KBA05_MOTRAD                   133324\n",
       "                                ...  \n",
       "D19_RATGEBER                        0\n",
       "FINANZ_ANLEGER                      0\n",
       "D19_REISEN                          0\n",
       "D19_SAMMELARTIKEL                   0\n",
       "D19_SCHUHE                          0\n",
       "D19_SONSTIGE                        0\n",
       "D19_TECHNIK                         0\n",
       "D19_TELKO_ANZ_12                    0\n",
       "D19_TELKO_ANZ_24                    0\n",
       "D19_TELKO_DATUM                     0\n",
       "D19_TELKO_MOBILE                    0\n",
       "D19_TELKO_OFFLINE_DATUM             0\n",
       "D19_TELKO_ONLINE_DATUM              0\n",
       "D19_TELKO_REST                      0\n",
       "D19_TIERARTIKEL                     0\n",
       "D19_VERSAND_ANZ_12                  0\n",
       "D19_VERSAND_ANZ_24                  0\n",
       "D19_VERSAND_DATUM                   0\n",
       "D19_VERSAND_OFFLINE_DATUM           0\n",
       "D19_VERSAND_ONLINE_DATUM            0\n",
       "D19_VERSAND_REST                    0\n",
       "D19_VERSI_ANZ_12                    0\n",
       "D19_VERSI_ANZ_24                    0\n",
       "D19_VERSI_DATUM                     0\n",
       "D19_VERSI_OFFLINE_DATUM             0\n",
       "D19_VERSI_ONLINE_DATUM              0\n",
       "D19_VERSICHERUNGEN                  0\n",
       "D19_VOLLSORTIMENT                   0\n",
       "D19_WEIN_FEINKOST                   0\n",
       "LNR                                 0\n",
       "Length: 366, dtype: int64"
      ]
     },
     "execution_count": 14,
     "metadata": {},
     "output_type": "execute_result"
    }
   ],
   "source": [
    "# Number of missing values before converted to nan\n",
    "azdias.isnull().sum().sort_values(ascending=False)"
   ]
  },
  {
   "cell_type": "code",
   "execution_count": 15,
   "metadata": {},
   "outputs": [],
   "source": [
    "# Convert unknowns to nan\n",
    "convert_unknown_to_nan(azdias, unknown_values_dict)"
   ]
  },
  {
   "cell_type": "code",
   "execution_count": 16,
   "metadata": {},
   "outputs": [],
   "source": [
    "# Number of missing values AFTER converted to nan\n",
    "#azdias.isnull().sum().sort_values(ascending=False)"
   ]
  },
  {
   "cell_type": "code",
   "execution_count": null,
   "metadata": {},
   "outputs": [],
   "source": [
    "# selecting only columns with missing values\n",
    "column_missing_values = azdias.isnull().sum().sort_values(ascending=False)\n",
    "column_missing_values = column_missing_values[column_missing_values > 0]\n",
    "\n",
    "print(column_missing_values)\n",
    "print(\"There are {} columns with missing values.\".format(len(column_missing_values)))"
   ]
  },
  {
   "cell_type": "code",
   "execution_count": null,
   "metadata": {},
   "outputs": [],
   "source": [
    "# Create a histogram of columns with number of missing values\n",
    "column_missing_values.plot.bar(figsize=(15,10))\n",
    "plt.title('Columns and number of missing values')\n",
    "plt.xlabel('Column')\n",
    "plt.ylabel('Number of missing values')\n",
    "plt.show()"
   ]
  },
  {
   "cell_type": "markdown",
   "metadata": {},
   "source": [
    "## Part 1: Customer Segmentation Report\n",
    "\n",
    "The main bulk of your analysis will come in this part of the project. Here, you should use unsupervised learning techniques to describe the relationship between the demographics of the company's existing customers and the general population of Germany. By the end of this part, you should be able to describe parts of the general population that are more likely to be part of the mail-order company's main customer base, and which parts of the general population are less so."
   ]
  },
  {
   "cell_type": "code",
   "execution_count": null,
   "metadata": {},
   "outputs": [],
   "source": []
  },
  {
   "cell_type": "code",
   "execution_count": null,
   "metadata": {},
   "outputs": [],
   "source": []
  },
  {
   "cell_type": "markdown",
   "metadata": {},
   "source": [
    "## Part 2: Supervised Learning Model\n",
    "\n",
    "Now that you've found which parts of the population are more likely to be customers of the mail-order company, it's time to build a prediction model. Each of the rows in the \"MAILOUT\" data files represents an individual that was targeted for a mailout campaign. Ideally, we should be able to use the demographic information from each individual to decide whether or not it will be worth it to include that person in the campaign.\n",
    "\n",
    "The \"MAILOUT\" data has been split into two approximately equal parts, each with almost 43 000 data rows. In this part, you can verify your model with the \"TRAIN\" partition, which includes a column, \"RESPONSE\", that states whether or not a person became a customer of the company following the campaign. In the next part, you'll need to create predictions on the \"TEST\" partition, where the \"RESPONSE\" column has been withheld."
   ]
  },
  {
   "cell_type": "code",
   "execution_count": null,
   "metadata": {},
   "outputs": [],
   "source": [
    "mailout_train = pd.read_csv('../../data/Term2/capstone/arvato_data/Udacity_MAILOUT_052018_TRAIN.csv', sep=';')"
   ]
  },
  {
   "cell_type": "code",
   "execution_count": null,
   "metadata": {},
   "outputs": [],
   "source": []
  },
  {
   "cell_type": "code",
   "execution_count": null,
   "metadata": {},
   "outputs": [],
   "source": []
  }
 ],
 "metadata": {
  "kernelspec": {
   "display_name": "Python 3",
   "language": "python",
   "name": "python3"
  },
  "language_info": {
   "codemirror_mode": {
    "name": "ipython",
    "version": 3
   },
   "file_extension": ".py",
   "mimetype": "text/x-python",
   "name": "python",
   "nbconvert_exporter": "python",
   "pygments_lexer": "ipython3",
   "version": "3.6.3"
  }
 },
 "nbformat": 4,
 "nbformat_minor": 2
}
